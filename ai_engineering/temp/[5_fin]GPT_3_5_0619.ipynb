{
  "cells": [
    {
      "cell_type": "markdown",
      "source": [
        "https://wikidocs.net/231376\n",
        "\n",
        "\n",
        "https://velog.io/@ji1kang/%EA%B0%9C%EB%B0%9C%EC%9E%90%EB%A5%BC-%EC%9C%84%ED%95%9C-ChatGPT-%ED%94%84%EB%A1%AC%ED%94%84%ED%8A%B8-%EC%97%94%EC%A7%80%EB%8B%88%EC%96%B4%EB%A7%81-%ED%9A%8C%EA%B3%A0%EC%99%80-%EB%B2%88%EC%99%B8%ED%8E%B8-%EB%B4%87%EC%B9%98%EB%B4%87-%EC%8B%A4%EC%8A%B5"
      ],
      "metadata": {
        "id": "dXB71czxEAbX"
      }
    },
    {
      "cell_type": "markdown",
      "source": [
        "# 0. 기본 세팅"
      ],
      "metadata": {
        "id": "nbytvCiwBwYM"
      }
    },
    {
      "cell_type": "code",
      "source": [
        "!pip install openai==0.28 # 이전 API를 사용"
      ],
      "metadata": {
        "colab": {
          "base_uri": "https://localhost:8080/"
        },
        "id": "DMtdjlGw_7BP",
        "outputId": "71db1b1d-fcc1-465e-f049-08bd0f7297d2"
      },
      "execution_count": 3,
      "outputs": [
        {
          "output_type": "stream",
          "name": "stdout",
          "text": [
            "Collecting openai==0.28\n",
            "  Downloading openai-0.28.0-py3-none-any.whl (76 kB)\n",
            "\u001b[?25l     \u001b[90m━━━━━━━━━━━━━━━━━━━━━━━━━━━━━━━━━━━━━━━━\u001b[0m \u001b[32m0.0/76.5 kB\u001b[0m \u001b[31m?\u001b[0m eta \u001b[36m-:--:--\u001b[0m\r\u001b[2K     \u001b[91m━━━━━━━━━━━━━━━━━━━━━━━━━━━━━━━━━━━━━\u001b[0m\u001b[90m╺\u001b[0m\u001b[90m━━\u001b[0m \u001b[32m71.7/76.5 kB\u001b[0m \u001b[31m2.6 MB/s\u001b[0m eta \u001b[36m0:00:01\u001b[0m\r\u001b[2K     \u001b[90m━━━━━━━━━━━━━━━━━━━━━━━━━━━━━━━━━━━━━━━━\u001b[0m \u001b[32m76.5/76.5 kB\u001b[0m \u001b[31m1.8 MB/s\u001b[0m eta \u001b[36m0:00:00\u001b[0m\n",
            "\u001b[?25hRequirement already satisfied: requests>=2.20 in /usr/local/lib/python3.10/dist-packages (from openai==0.28) (2.31.0)\n",
            "Requirement already satisfied: tqdm in /usr/local/lib/python3.10/dist-packages (from openai==0.28) (4.66.4)\n",
            "Requirement already satisfied: aiohttp in /usr/local/lib/python3.10/dist-packages (from openai==0.28) (3.9.5)\n",
            "Requirement already satisfied: charset-normalizer<4,>=2 in /usr/local/lib/python3.10/dist-packages (from requests>=2.20->openai==0.28) (3.3.2)\n",
            "Requirement already satisfied: idna<4,>=2.5 in /usr/local/lib/python3.10/dist-packages (from requests>=2.20->openai==0.28) (3.7)\n",
            "Requirement already satisfied: urllib3<3,>=1.21.1 in /usr/local/lib/python3.10/dist-packages (from requests>=2.20->openai==0.28) (2.0.7)\n",
            "Requirement already satisfied: certifi>=2017.4.17 in /usr/local/lib/python3.10/dist-packages (from requests>=2.20->openai==0.28) (2024.6.2)\n",
            "Requirement already satisfied: aiosignal>=1.1.2 in /usr/local/lib/python3.10/dist-packages (from aiohttp->openai==0.28) (1.3.1)\n",
            "Requirement already satisfied: attrs>=17.3.0 in /usr/local/lib/python3.10/dist-packages (from aiohttp->openai==0.28) (23.2.0)\n",
            "Requirement already satisfied: frozenlist>=1.1.1 in /usr/local/lib/python3.10/dist-packages (from aiohttp->openai==0.28) (1.4.1)\n",
            "Requirement already satisfied: multidict<7.0,>=4.5 in /usr/local/lib/python3.10/dist-packages (from aiohttp->openai==0.28) (6.0.5)\n",
            "Requirement already satisfied: yarl<2.0,>=1.0 in /usr/local/lib/python3.10/dist-packages (from aiohttp->openai==0.28) (1.9.4)\n",
            "Requirement already satisfied: async-timeout<5.0,>=4.0 in /usr/local/lib/python3.10/dist-packages (from aiohttp->openai==0.28) (4.0.3)\n",
            "Installing collected packages: openai\n",
            "Successfully installed openai-0.28.0\n"
          ]
        }
      ]
    },
    {
      "cell_type": "markdown",
      "source": [
        "# 1. API 불러오기"
      ],
      "metadata": {
        "id": "xKsByFVVB07-"
      }
    },
    {
      "cell_type": "code",
      "source": [
        "import os\n",
        "import openai\n",
        "\n",
        "# openai.api_key = os.getenv(\"\")\n",
        "openai.api_key = ''"
      ],
      "metadata": {
        "id": "JDQQ374AB3JG"
      },
      "execution_count": 4,
      "outputs": []
    },
    {
      "cell_type": "markdown",
      "source": [
        "# 2. 기본 모델링 적용"
      ],
      "metadata": {
        "id": "qwKgZMBmDT69"
      }
    },
    {
      "cell_type": "code",
      "source": [
        "def generate_comment(diary_entry):\n",
        "    prompt = f\"일기: {diary_entry}\\n\\n이 일기를 읽고 공감형 댓글을 작성해 주세요:\"\n",
        "    response = openai.ChatCompletion.create(\n",
        "        # 모델 - GPT 3.5 Turbo 선택\n",
        "        model=\"gpt-3.5-turbo\",\n",
        "        # 메시지 설정\n",
        "        messages=[{\"role\": \"system\", \"content\": \"당신은 초보 엄마의 마음을 친절히 공감할 줄 아는 AI입니다.\"}, # system : 어떻게 행동해야 하는지 지정\n",
        "                  {\"role\": \"user\", \"content\": prompt}] # user : 일반적으로 질문하는 내용\n",
        "    )\n",
        "    momttok = response.choices[0].message['content']\n",
        "    return momttok"
      ],
      "metadata": {
        "id": "avMgZjyi_68p"
      },
      "execution_count": 5,
      "outputs": []
    },
    {
      "cell_type": "code",
      "source": [
        "# 일기 예시\n",
        "diary_entry = \"오늘은 회사에서 많이 지쳤다. 상사에게 혼나고 프로젝트도 제대로 진행되지 않았다. 너무 힘들다.\"\n",
        "comment = generate_comment(diary_entry)\n",
        "print(comment)"
      ],
      "metadata": {
        "colab": {
          "base_uri": "https://localhost:8080/"
        },
        "id": "zRpLKBc9_66f",
        "outputId": "ebc8fcdf-bbd6-4b33-8df5-ecaf0d2fe5b7"
      },
      "execution_count": 6,
      "outputs": [
        {
          "output_type": "stream",
          "name": "stdout",
          "text": [
            "정말 힘든 하루였겠죠. 상사로부터 혼나고 프로젝트가 제대로 진행되지 않아서 더욱 지치셨을 것 같아요. 그런 날은 정말 힘들고 힘든 마음을 달래주는 말이 필요할 때죠. 잠시 휴식을 취하고 내일을 기대해보는 것도 좋은 방법일 수 있겠네요. 힘내세요. 함께 응원해요.🌟\n"
          ]
        }
      ]
    },
    {
      "cell_type": "code",
      "source": [
        "diary_entry = \"평일은 24시간 독박육아 중인데 밤되면 너무 외롭고 힘들어요. 물론 낮에도 마찬가지지만 낮에는 아기 케어하고 아기잘때 그냥 옆에서 자기도 해서 시간이 빨리 가기도 하더라구요. 밤되면 적막감이 흘러서 너무 외롭고. 남편이 퇴근후에 와서 아기랑 놀아주고 목욕 같이 시키고 하루의 일과에 대해서 조잘조잘 대화하고 아기 자면 맛난것도 먹고 하는 평범한 일상이 너무 부러워요. 갑자기 모든게 버거워서 눈물이 나네요ㅠㅠ 우울증이 오진 않겟죠ㅠㅠ\"\n",
        "comment = generate_comment(diary_entry)\n",
        "print(comment)"
      ],
      "metadata": {
        "colab": {
          "base_uri": "https://localhost:8080/"
        },
        "id": "nFB9fxzh_64l",
        "outputId": "7bbe2224-827f-46db-df7b-234704b7d792"
      },
      "execution_count": 7,
      "outputs": [
        {
          "output_type": "stream",
          "name": "stdout",
          "text": [
            "정말 힘든 시간을 보내고 있군요. 독박육아는 정말 힘들고 외로운 일이라는데, 정말 충분히 이해해요. 낮에는 아기와 함께 시간을 보내면서 조금이라도 힘을 내는데, 밤에는 혼자 남겨진 느낌이라 외로움이 배가 되겠죠. 남편이 퇴근 후에 돌보아주는 모습을 보니까 더 그리워지고 부러워지는 마음도 이해해요. 그러나 당신은 정말 대단한 엄마에요. 아이를 위해 매 순간을 헌신하는 모습이 대견하고 아름다워요. 소중한 자신을 더 사랑해 주세요. 모든 일상이 힘들겠지만 한걸음 한걸음 천천히 가다보면 분명히 행복한 순간들이 찾아올 거예요. 우울증이 올거라는 생각은 안 하셔도 돼요. 언제든지 힘들 때는 누군가에게 이야기하고 위로 받을 수 있어요. 함께 힘을 모아서 이 가치있는 시간을 보내 봐요. 함께 응원할게요. 🌸🌸🌸\n"
          ]
        }
      ]
    },
    {
      "cell_type": "markdown",
      "source": [
        "# 3. 데이터 준비"
      ],
      "metadata": {
        "id": "bhR1J-4gJ9Zl"
      }
    },
    {
      "cell_type": "code",
      "source": [
        "import pandas as pd\n",
        "import numpy as np\n",
        "\n",
        "from google.colab import drive\n",
        "drive.mount('/content/drive')"
      ],
      "metadata": {
        "colab": {
          "base_uri": "https://localhost:8080/"
        },
        "id": "kfx260NW-VFQ",
        "outputId": "af1cfb05-f36d-4bcd-93c1-b6f4bcb88768"
      },
      "execution_count": 8,
      "outputs": [
        {
          "output_type": "stream",
          "name": "stdout",
          "text": [
            "Mounted at /content/drive\n"
          ]
        }
      ]
    },
    {
      "cell_type": "code",
      "source": [
        "momsholic = pd.read_csv('/content/drive/MyDrive/0000/Class/gradu_pro/Dataset/momttok_mosholic.csv')\n",
        "momsholic.context = momsholic.context.str.replace('\\s+', ' ')\n",
        "momsholic.comment = momsholic.comment.str.replace('\\s+', ' ')\n",
        "momsholic.context = momsholic.context.str.replace('\\n', ' ')\n",
        "momsholic.comment = momsholic.comment.str.replace('\\n', ' ')\n",
        "momsholic"
      ],
      "metadata": {
        "colab": {
          "base_uri": "https://localhost:8080/",
          "height": 1000
        },
        "id": "HwPrccuo-gdA",
        "outputId": "54595f07-8c51-44f9-9ef4-f96c67c501a1"
      },
      "execution_count": 26,
      "outputs": [
        {
          "output_type": "execute_result",
          "data": {
            "text/plain": [
              "                                              context  \\\n",
              "0   주말부부하고 있어요.  평일은 24시간 독박육아 중인데 밤되면 너무 외롭고 힘들어요...   \n",
              "1   첫째때는 이정도로 태동이 심하진않았는데..  둘째는 하루종일 움직여서 정말 미칠것같...   \n",
              "2   최근들어 애기랑 둘이 있으면 막 그렇게 힘들거나 하지는 않는데 밤잠을 제대로 못 자...   \n",
              "3   조리원 첫날..신랑 가는 모습에 울고.. 그담부터 잘지냈어요..오늘 조리원 4일차인...   \n",
              "4   아이는 너무 귀여운데..제가 매일 울고있네요.   산후도우미 쓰고있는데..3주면 끝...   \n",
              "5   날씨는 점점 좋아지는데   제 마음은 시베리야라서 그냥 한 번 털어놔봐요.  힘내라...   \n",
              "6   오늘도새벽4시에깨서 울고불고..  산후우울증때문에 약도먹었는데 복직하면서 좋아져서 ...   \n",
              "7   28개월...  애낳고 지금까지 행복했던적 꼽으라면 열손가락안에 들까요... 365...   \n",
              "8   복직때문에 9개월부터 어린이집 다니는데..  많이 힘들었을텐데 적응 잘해준 우리딸....   \n",
              "9   남편과는 싸우는 일도 거의 없이 정말 알콩달콩 잘 지냈어요.  전세이지만 신축 새 ...   \n",
              "10  아기낳고싶어서 준비하고 아기가생겼을땐 너무기뻐서 얼른봤음좋겠다 했는데..  66일차...   \n",
              "11  너무 칭얼거려서 1시간째 안고 서성이다가  팔이 떨어질거같아서 정말 잠깐 내렸는데 ...   \n",
              "12  오늘은 아기가 아침부터 지금까지 하루종일 울어요...  달래고 달래다 저도 엄마기 ...   \n",
              "13  아닐거야...그냥 내가 예민하겟지...내가 성격이 별로구나  인내심이부족하구나 자책...   \n",
              "14  쿵쿵쿵쿵 이렇게 ㅠ 박았어요   9갤된 애기 키우고있구요 오늘 너무 힘들고 지치는데...   \n",
              "15  괜찮았는데 백일 앞두고 마음이 또 요동쳐요  아기가 커가는 게 꼭 내 작았던 아기랑...   \n",
              "16  어린이집가면 쉰다고 누가그러나요  하루종일 집안일에 밥 이것저것 해줘도 안먹고  쉬...   \n",
              "17   조리원 자리가없대서 아기만 오늘 보내고 저랑 남편은 집에 왔어요.  내일 입소하는...   \n",
              "18  남편이 주말에도 자정까지 일해서 독박인데 넘 지쳐요  첫째 점심 안먹고 뻐팅기다가 ...   \n",
              "19  68일차아기가 잠투정하면서 우는데 이젠 화가나요  ​  아기가 무슨 잘못이있겠냐하지...   \n",
              "20  많이 지친거같아요  첫째8살 둘째3살인데  둘째 이쁜것도 모르겠고  그냥 너무 힘들...   \n",
              "21  매일 눈물이 자꾸 나요   남편도 좋은사람이지만 틱틱거리는 사람이지만  항상 듣던 ...   \n",
              "22  결혼하고나서 사실 전 딩크였지만  신랑이 아가를 원해서 준비를 했지만 잘 안되어서 ...   \n",
              "23  이제 아기는 백일을 앞두고 있어요  ​  저는 남편은 좋지만 아이를 좋아하지 않더라...   \n",
              "24  출산하고 매일 반복 되는 하루..  언제쯤 이시간이 지나갈지..애기가 울면 왜케 화...   \n",
              "25  작년 가을쯤 우울증 최고로 심할때   애 어린이집 보내고 정신과 약도 먹어보고  친...   \n",
              "26  24개월아들 첫째가있구여 8개월전 둘째셋째 여아쌍둥이를 낳았는데,, 아직도 산후우울...   \n",
              "27  용기가없어서 죽지도 못하고..  새벽수유 끊는중인데 토닥토닥 연장하다가 결국 울어서...   \n",
              "28  21년 5월 20일 첫째  22년 5월 3일 둘째를 낳았어요.  ​  둘째는 어리니...   \n",
              "29  100일지나가는데   아기 키우면서   이렇게 안아주니까 잘자네  이렇게 수유 자세...   \n",
              "\n",
              "                                              comment  \n",
              "0   저는 남편이 2주에 한번 토요일만 있다가 가여ㅠㅠ 어쩔수없는 일에는 스트레스를 안받...  \n",
              "1   호르몬때문에 그럴거에요~ 연년생키우고 있고 셋째임신34주인데 둘째 너무너무 이뻐요(...  \n",
              "2   저도 그랬어요! 친구들이랑 통화라도 하면 괜찮고 둘이있음 우울하고 밥도먹기싫고ㅜㅜㅜ...  \n",
              "3   너무 힘드시면 단유하는것도 맞는거죠. 집에가서 또 아기 봐야하니까요. 이쁜아기 또 ...  \n",
              "4   에고. .저도 나이가있어 공감이됩니다. 노산 너무 힘들더라구요. 산후보약 꼭드시고 ...  \n",
              "5   저도 '하루살이'처럼 하루만 잘 살아보자 싶습니다... 남편까지 마음에 들지 않고,...  \n",
              "6   남편이랑 요일 정확히 정해서 새벽담당정하세요. 일주일에 딱 3일이라도 안깨고 푹자고...  \n",
              "7   부정적인 마음이 너무 쌓이면 자신도 통제하기 힘들게 불쑥 올라오는때가 있어요 글쓴이...  \n",
              "8   아이에게 미안한 마음을 가지고 있다는거 하나만으로도 훌륭한 엄마인걸요❤️ 엄마도 엄...  \n",
              "9   넘 사랑스러워요!! 지금 호르몬 때문에 더 마음이 싱숭생숭하실거에요! 저는 이렇게 ...  \n",
              "10  그럴 때 많아요~ 저희 애도 유난스러워서 전 정말 의무감으로 키웠어요 ㅠㅠㅠㅠ 낳은...  \n",
              "11  그냥 갓난아기한테 화낸 스스로가 창피해서 말 안할뿐이지 다들 그런 경험 있어요… 그...  \n",
              "12  아이고 어쩌면 좋아요ㅠㅠ 지금 너무 지치고 힘드신 것 같아요ㅠㅠ 현명한 대답을 드릴...  \n",
              "13  유명한 정신과 원장님이 그러는데 우울증은 성격좋고 괜찮은 사람 (정상적인)이 걸리는...  \n",
              "14  그 마음 충분히 이해합니다..그래도 아가를 생각해서 조금 더 힘내보세요..저도 아가...  \n",
              "15  완전저랑 똑같으세요.. 임신중에 애기 품고 있어서 많이 행복했나봐요 .... 애기 ...  \n",
              "16  많이 힘드시죠... 티는 안내도 대부분 육아하시는 분들은 맘님처럼 생각 하고 지내실...  \n",
              "17  호르몬 때문에 그래요. 조리원에서도 갑자기 이유없이 눈물나고 뭐가무섭고 두렵고 막 ...  \n",
              "18  ㅠㅠ 낼 애들맡기고 혼자 맛난거 드세요!! 갑자기 저도 ㅋ 예전에 육아하다 밥때 놓...  \n",
              "19                            맞습나덩 엄마도 힘들고 지치는 사람인걸요😭  \n",
              "20  어떤 마음인지 공감이 되어서 힘내라는 말도 쉽게 나오지 않네요 ㅠㅠ 하루라도, 아님...  \n",
              "21  아기 순한거랑 상관없이두 올수있죠ㅠㅠ 갑자기 엄마가 되었잖아요. 내 삶이 다 바뀌고...  \n",
              "22  백일까지 몸도 회복 안되고 힘들고 아가도 수유텀 짧고 잠도 부족하고 마니 힘들때라 ...  \n",
              "23  아직은 애기랑 상호작용이 되는 느낌이 없어서 그래요~~ 저도 아기 백일 넘어가니 넘...  \n",
              "24  시간지나보면 아 진짜 약이네 약이야..이 생각 들더라고요… 우리 힘내 보아요 진짜 ...  \n",
              "25  시간이 해결해줘요.. 두돌넘어서까진 힘들죠 세돌 지나서? 말이 통하면 좀 나아요~ ...  \n",
              "26  그럼요 ㅠㅠ...있죠! 아이들 학교들어갈때까지도 영향있는 사람이 있다더라구요. 주변...  \n",
              "27  저희 신랑도 많이 도와줄려고 하긴 하는데 막상 내가 시켜야지만 할때는 울컥울컥해요ㅠ...  \n",
              "28  첫째는 첫째대로 상처고 둘째는 둘째대로 아프고ㅜㅜ 그런데 둘다 친구처럼 의지하면서 ...  \n",
              "29  처음이라 당연히 모르죠~ 이렇게 배워가는구나 ~ 하면되지않을까요? 배우는 중이니 시...  "
            ],
            "text/html": [
              "\n",
              "  <div id=\"df-dea6f349-ac34-4856-b77b-11db25a667f0\" class=\"colab-df-container\">\n",
              "    <div>\n",
              "<style scoped>\n",
              "    .dataframe tbody tr th:only-of-type {\n",
              "        vertical-align: middle;\n",
              "    }\n",
              "\n",
              "    .dataframe tbody tr th {\n",
              "        vertical-align: top;\n",
              "    }\n",
              "\n",
              "    .dataframe thead th {\n",
              "        text-align: right;\n",
              "    }\n",
              "</style>\n",
              "<table border=\"1\" class=\"dataframe\">\n",
              "  <thead>\n",
              "    <tr style=\"text-align: right;\">\n",
              "      <th></th>\n",
              "      <th>context</th>\n",
              "      <th>comment</th>\n",
              "    </tr>\n",
              "  </thead>\n",
              "  <tbody>\n",
              "    <tr>\n",
              "      <th>0</th>\n",
              "      <td>주말부부하고 있어요.  평일은 24시간 독박육아 중인데 밤되면 너무 외롭고 힘들어요...</td>\n",
              "      <td>저는 남편이 2주에 한번 토요일만 있다가 가여ㅠㅠ 어쩔수없는 일에는 스트레스를 안받...</td>\n",
              "    </tr>\n",
              "    <tr>\n",
              "      <th>1</th>\n",
              "      <td>첫째때는 이정도로 태동이 심하진않았는데..  둘째는 하루종일 움직여서 정말 미칠것같...</td>\n",
              "      <td>호르몬때문에 그럴거에요~ 연년생키우고 있고 셋째임신34주인데 둘째 너무너무 이뻐요(...</td>\n",
              "    </tr>\n",
              "    <tr>\n",
              "      <th>2</th>\n",
              "      <td>최근들어 애기랑 둘이 있으면 막 그렇게 힘들거나 하지는 않는데 밤잠을 제대로 못 자...</td>\n",
              "      <td>저도 그랬어요! 친구들이랑 통화라도 하면 괜찮고 둘이있음 우울하고 밥도먹기싫고ㅜㅜㅜ...</td>\n",
              "    </tr>\n",
              "    <tr>\n",
              "      <th>3</th>\n",
              "      <td>조리원 첫날..신랑 가는 모습에 울고.. 그담부터 잘지냈어요..오늘 조리원 4일차인...</td>\n",
              "      <td>너무 힘드시면 단유하는것도 맞는거죠. 집에가서 또 아기 봐야하니까요. 이쁜아기 또 ...</td>\n",
              "    </tr>\n",
              "    <tr>\n",
              "      <th>4</th>\n",
              "      <td>아이는 너무 귀여운데..제가 매일 울고있네요.   산후도우미 쓰고있는데..3주면 끝...</td>\n",
              "      <td>에고. .저도 나이가있어 공감이됩니다. 노산 너무 힘들더라구요. 산후보약 꼭드시고 ...</td>\n",
              "    </tr>\n",
              "    <tr>\n",
              "      <th>5</th>\n",
              "      <td>날씨는 점점 좋아지는데   제 마음은 시베리야라서 그냥 한 번 털어놔봐요.  힘내라...</td>\n",
              "      <td>저도 '하루살이'처럼 하루만 잘 살아보자 싶습니다... 남편까지 마음에 들지 않고,...</td>\n",
              "    </tr>\n",
              "    <tr>\n",
              "      <th>6</th>\n",
              "      <td>오늘도새벽4시에깨서 울고불고..  산후우울증때문에 약도먹었는데 복직하면서 좋아져서 ...</td>\n",
              "      <td>남편이랑 요일 정확히 정해서 새벽담당정하세요. 일주일에 딱 3일이라도 안깨고 푹자고...</td>\n",
              "    </tr>\n",
              "    <tr>\n",
              "      <th>7</th>\n",
              "      <td>28개월...  애낳고 지금까지 행복했던적 꼽으라면 열손가락안에 들까요... 365...</td>\n",
              "      <td>부정적인 마음이 너무 쌓이면 자신도 통제하기 힘들게 불쑥 올라오는때가 있어요 글쓴이...</td>\n",
              "    </tr>\n",
              "    <tr>\n",
              "      <th>8</th>\n",
              "      <td>복직때문에 9개월부터 어린이집 다니는데..  많이 힘들었을텐데 적응 잘해준 우리딸....</td>\n",
              "      <td>아이에게 미안한 마음을 가지고 있다는거 하나만으로도 훌륭한 엄마인걸요❤️ 엄마도 엄...</td>\n",
              "    </tr>\n",
              "    <tr>\n",
              "      <th>9</th>\n",
              "      <td>남편과는 싸우는 일도 거의 없이 정말 알콩달콩 잘 지냈어요.  전세이지만 신축 새 ...</td>\n",
              "      <td>넘 사랑스러워요!! 지금 호르몬 때문에 더 마음이 싱숭생숭하실거에요! 저는 이렇게 ...</td>\n",
              "    </tr>\n",
              "    <tr>\n",
              "      <th>10</th>\n",
              "      <td>아기낳고싶어서 준비하고 아기가생겼을땐 너무기뻐서 얼른봤음좋겠다 했는데..  66일차...</td>\n",
              "      <td>그럴 때 많아요~ 저희 애도 유난스러워서 전 정말 의무감으로 키웠어요 ㅠㅠㅠㅠ 낳은...</td>\n",
              "    </tr>\n",
              "    <tr>\n",
              "      <th>11</th>\n",
              "      <td>너무 칭얼거려서 1시간째 안고 서성이다가  팔이 떨어질거같아서 정말 잠깐 내렸는데 ...</td>\n",
              "      <td>그냥 갓난아기한테 화낸 스스로가 창피해서 말 안할뿐이지 다들 그런 경험 있어요… 그...</td>\n",
              "    </tr>\n",
              "    <tr>\n",
              "      <th>12</th>\n",
              "      <td>오늘은 아기가 아침부터 지금까지 하루종일 울어요...  달래고 달래다 저도 엄마기 ...</td>\n",
              "      <td>아이고 어쩌면 좋아요ㅠㅠ 지금 너무 지치고 힘드신 것 같아요ㅠㅠ 현명한 대답을 드릴...</td>\n",
              "    </tr>\n",
              "    <tr>\n",
              "      <th>13</th>\n",
              "      <td>아닐거야...그냥 내가 예민하겟지...내가 성격이 별로구나  인내심이부족하구나 자책...</td>\n",
              "      <td>유명한 정신과 원장님이 그러는데 우울증은 성격좋고 괜찮은 사람 (정상적인)이 걸리는...</td>\n",
              "    </tr>\n",
              "    <tr>\n",
              "      <th>14</th>\n",
              "      <td>쿵쿵쿵쿵 이렇게 ㅠ 박았어요   9갤된 애기 키우고있구요 오늘 너무 힘들고 지치는데...</td>\n",
              "      <td>그 마음 충분히 이해합니다..그래도 아가를 생각해서 조금 더 힘내보세요..저도 아가...</td>\n",
              "    </tr>\n",
              "    <tr>\n",
              "      <th>15</th>\n",
              "      <td>괜찮았는데 백일 앞두고 마음이 또 요동쳐요  아기가 커가는 게 꼭 내 작았던 아기랑...</td>\n",
              "      <td>완전저랑 똑같으세요.. 임신중에 애기 품고 있어서 많이 행복했나봐요 .... 애기 ...</td>\n",
              "    </tr>\n",
              "    <tr>\n",
              "      <th>16</th>\n",
              "      <td>어린이집가면 쉰다고 누가그러나요  하루종일 집안일에 밥 이것저것 해줘도 안먹고  쉬...</td>\n",
              "      <td>많이 힘드시죠... 티는 안내도 대부분 육아하시는 분들은 맘님처럼 생각 하고 지내실...</td>\n",
              "    </tr>\n",
              "    <tr>\n",
              "      <th>17</th>\n",
              "      <td>조리원 자리가없대서 아기만 오늘 보내고 저랑 남편은 집에 왔어요.  내일 입소하는...</td>\n",
              "      <td>호르몬 때문에 그래요. 조리원에서도 갑자기 이유없이 눈물나고 뭐가무섭고 두렵고 막 ...</td>\n",
              "    </tr>\n",
              "    <tr>\n",
              "      <th>18</th>\n",
              "      <td>남편이 주말에도 자정까지 일해서 독박인데 넘 지쳐요  첫째 점심 안먹고 뻐팅기다가 ...</td>\n",
              "      <td>ㅠㅠ 낼 애들맡기고 혼자 맛난거 드세요!! 갑자기 저도 ㅋ 예전에 육아하다 밥때 놓...</td>\n",
              "    </tr>\n",
              "    <tr>\n",
              "      <th>19</th>\n",
              "      <td>68일차아기가 잠투정하면서 우는데 이젠 화가나요  ​  아기가 무슨 잘못이있겠냐하지...</td>\n",
              "      <td>맞습나덩 엄마도 힘들고 지치는 사람인걸요😭</td>\n",
              "    </tr>\n",
              "    <tr>\n",
              "      <th>20</th>\n",
              "      <td>많이 지친거같아요  첫째8살 둘째3살인데  둘째 이쁜것도 모르겠고  그냥 너무 힘들...</td>\n",
              "      <td>어떤 마음인지 공감이 되어서 힘내라는 말도 쉽게 나오지 않네요 ㅠㅠ 하루라도, 아님...</td>\n",
              "    </tr>\n",
              "    <tr>\n",
              "      <th>21</th>\n",
              "      <td>매일 눈물이 자꾸 나요   남편도 좋은사람이지만 틱틱거리는 사람이지만  항상 듣던 ...</td>\n",
              "      <td>아기 순한거랑 상관없이두 올수있죠ㅠㅠ 갑자기 엄마가 되었잖아요. 내 삶이 다 바뀌고...</td>\n",
              "    </tr>\n",
              "    <tr>\n",
              "      <th>22</th>\n",
              "      <td>결혼하고나서 사실 전 딩크였지만  신랑이 아가를 원해서 준비를 했지만 잘 안되어서 ...</td>\n",
              "      <td>백일까지 몸도 회복 안되고 힘들고 아가도 수유텀 짧고 잠도 부족하고 마니 힘들때라 ...</td>\n",
              "    </tr>\n",
              "    <tr>\n",
              "      <th>23</th>\n",
              "      <td>이제 아기는 백일을 앞두고 있어요  ​  저는 남편은 좋지만 아이를 좋아하지 않더라...</td>\n",
              "      <td>아직은 애기랑 상호작용이 되는 느낌이 없어서 그래요~~ 저도 아기 백일 넘어가니 넘...</td>\n",
              "    </tr>\n",
              "    <tr>\n",
              "      <th>24</th>\n",
              "      <td>출산하고 매일 반복 되는 하루..  언제쯤 이시간이 지나갈지..애기가 울면 왜케 화...</td>\n",
              "      <td>시간지나보면 아 진짜 약이네 약이야..이 생각 들더라고요… 우리 힘내 보아요 진짜 ...</td>\n",
              "    </tr>\n",
              "    <tr>\n",
              "      <th>25</th>\n",
              "      <td>작년 가을쯤 우울증 최고로 심할때   애 어린이집 보내고 정신과 약도 먹어보고  친...</td>\n",
              "      <td>시간이 해결해줘요.. 두돌넘어서까진 힘들죠 세돌 지나서? 말이 통하면 좀 나아요~ ...</td>\n",
              "    </tr>\n",
              "    <tr>\n",
              "      <th>26</th>\n",
              "      <td>24개월아들 첫째가있구여 8개월전 둘째셋째 여아쌍둥이를 낳았는데,, 아직도 산후우울...</td>\n",
              "      <td>그럼요 ㅠㅠ...있죠! 아이들 학교들어갈때까지도 영향있는 사람이 있다더라구요. 주변...</td>\n",
              "    </tr>\n",
              "    <tr>\n",
              "      <th>27</th>\n",
              "      <td>용기가없어서 죽지도 못하고..  새벽수유 끊는중인데 토닥토닥 연장하다가 결국 울어서...</td>\n",
              "      <td>저희 신랑도 많이 도와줄려고 하긴 하는데 막상 내가 시켜야지만 할때는 울컥울컥해요ㅠ...</td>\n",
              "    </tr>\n",
              "    <tr>\n",
              "      <th>28</th>\n",
              "      <td>21년 5월 20일 첫째  22년 5월 3일 둘째를 낳았어요.  ​  둘째는 어리니...</td>\n",
              "      <td>첫째는 첫째대로 상처고 둘째는 둘째대로 아프고ㅜㅜ 그런데 둘다 친구처럼 의지하면서 ...</td>\n",
              "    </tr>\n",
              "    <tr>\n",
              "      <th>29</th>\n",
              "      <td>100일지나가는데   아기 키우면서   이렇게 안아주니까 잘자네  이렇게 수유 자세...</td>\n",
              "      <td>처음이라 당연히 모르죠~ 이렇게 배워가는구나 ~ 하면되지않을까요? 배우는 중이니 시...</td>\n",
              "    </tr>\n",
              "  </tbody>\n",
              "</table>\n",
              "</div>\n",
              "    <div class=\"colab-df-buttons\">\n",
              "\n",
              "  <div class=\"colab-df-container\">\n",
              "    <button class=\"colab-df-convert\" onclick=\"convertToInteractive('df-dea6f349-ac34-4856-b77b-11db25a667f0')\"\n",
              "            title=\"Convert this dataframe to an interactive table.\"\n",
              "            style=\"display:none;\">\n",
              "\n",
              "  <svg xmlns=\"http://www.w3.org/2000/svg\" height=\"24px\" viewBox=\"0 -960 960 960\">\n",
              "    <path d=\"M120-120v-720h720v720H120Zm60-500h600v-160H180v160Zm220 220h160v-160H400v160Zm0 220h160v-160H400v160ZM180-400h160v-160H180v160Zm440 0h160v-160H620v160ZM180-180h160v-160H180v160Zm440 0h160v-160H620v160Z\"/>\n",
              "  </svg>\n",
              "    </button>\n",
              "\n",
              "  <style>\n",
              "    .colab-df-container {\n",
              "      display:flex;\n",
              "      gap: 12px;\n",
              "    }\n",
              "\n",
              "    .colab-df-convert {\n",
              "      background-color: #E8F0FE;\n",
              "      border: none;\n",
              "      border-radius: 50%;\n",
              "      cursor: pointer;\n",
              "      display: none;\n",
              "      fill: #1967D2;\n",
              "      height: 32px;\n",
              "      padding: 0 0 0 0;\n",
              "      width: 32px;\n",
              "    }\n",
              "\n",
              "    .colab-df-convert:hover {\n",
              "      background-color: #E2EBFA;\n",
              "      box-shadow: 0px 1px 2px rgba(60, 64, 67, 0.3), 0px 1px 3px 1px rgba(60, 64, 67, 0.15);\n",
              "      fill: #174EA6;\n",
              "    }\n",
              "\n",
              "    .colab-df-buttons div {\n",
              "      margin-bottom: 4px;\n",
              "    }\n",
              "\n",
              "    [theme=dark] .colab-df-convert {\n",
              "      background-color: #3B4455;\n",
              "      fill: #D2E3FC;\n",
              "    }\n",
              "\n",
              "    [theme=dark] .colab-df-convert:hover {\n",
              "      background-color: #434B5C;\n",
              "      box-shadow: 0px 1px 3px 1px rgba(0, 0, 0, 0.15);\n",
              "      filter: drop-shadow(0px 1px 2px rgba(0, 0, 0, 0.3));\n",
              "      fill: #FFFFFF;\n",
              "    }\n",
              "  </style>\n",
              "\n",
              "    <script>\n",
              "      const buttonEl =\n",
              "        document.querySelector('#df-dea6f349-ac34-4856-b77b-11db25a667f0 button.colab-df-convert');\n",
              "      buttonEl.style.display =\n",
              "        google.colab.kernel.accessAllowed ? 'block' : 'none';\n",
              "\n",
              "      async function convertToInteractive(key) {\n",
              "        const element = document.querySelector('#df-dea6f349-ac34-4856-b77b-11db25a667f0');\n",
              "        const dataTable =\n",
              "          await google.colab.kernel.invokeFunction('convertToInteractive',\n",
              "                                                    [key], {});\n",
              "        if (!dataTable) return;\n",
              "\n",
              "        const docLinkHtml = 'Like what you see? Visit the ' +\n",
              "          '<a target=\"_blank\" href=https://colab.research.google.com/notebooks/data_table.ipynb>data table notebook</a>'\n",
              "          + ' to learn more about interactive tables.';\n",
              "        element.innerHTML = '';\n",
              "        dataTable['output_type'] = 'display_data';\n",
              "        await google.colab.output.renderOutput(dataTable, element);\n",
              "        const docLink = document.createElement('div');\n",
              "        docLink.innerHTML = docLinkHtml;\n",
              "        element.appendChild(docLink);\n",
              "      }\n",
              "    </script>\n",
              "  </div>\n",
              "\n",
              "\n",
              "<div id=\"df-35222986-f484-42c8-939c-df14cede1414\">\n",
              "  <button class=\"colab-df-quickchart\" onclick=\"quickchart('df-35222986-f484-42c8-939c-df14cede1414')\"\n",
              "            title=\"Suggest charts\"\n",
              "            style=\"display:none;\">\n",
              "\n",
              "<svg xmlns=\"http://www.w3.org/2000/svg\" height=\"24px\"viewBox=\"0 0 24 24\"\n",
              "     width=\"24px\">\n",
              "    <g>\n",
              "        <path d=\"M19 3H5c-1.1 0-2 .9-2 2v14c0 1.1.9 2 2 2h14c1.1 0 2-.9 2-2V5c0-1.1-.9-2-2-2zM9 17H7v-7h2v7zm4 0h-2V7h2v10zm4 0h-2v-4h2v4z\"/>\n",
              "    </g>\n",
              "</svg>\n",
              "  </button>\n",
              "\n",
              "<style>\n",
              "  .colab-df-quickchart {\n",
              "      --bg-color: #E8F0FE;\n",
              "      --fill-color: #1967D2;\n",
              "      --hover-bg-color: #E2EBFA;\n",
              "      --hover-fill-color: #174EA6;\n",
              "      --disabled-fill-color: #AAA;\n",
              "      --disabled-bg-color: #DDD;\n",
              "  }\n",
              "\n",
              "  [theme=dark] .colab-df-quickchart {\n",
              "      --bg-color: #3B4455;\n",
              "      --fill-color: #D2E3FC;\n",
              "      --hover-bg-color: #434B5C;\n",
              "      --hover-fill-color: #FFFFFF;\n",
              "      --disabled-bg-color: #3B4455;\n",
              "      --disabled-fill-color: #666;\n",
              "  }\n",
              "\n",
              "  .colab-df-quickchart {\n",
              "    background-color: var(--bg-color);\n",
              "    border: none;\n",
              "    border-radius: 50%;\n",
              "    cursor: pointer;\n",
              "    display: none;\n",
              "    fill: var(--fill-color);\n",
              "    height: 32px;\n",
              "    padding: 0;\n",
              "    width: 32px;\n",
              "  }\n",
              "\n",
              "  .colab-df-quickchart:hover {\n",
              "    background-color: var(--hover-bg-color);\n",
              "    box-shadow: 0 1px 2px rgba(60, 64, 67, 0.3), 0 1px 3px 1px rgba(60, 64, 67, 0.15);\n",
              "    fill: var(--button-hover-fill-color);\n",
              "  }\n",
              "\n",
              "  .colab-df-quickchart-complete:disabled,\n",
              "  .colab-df-quickchart-complete:disabled:hover {\n",
              "    background-color: var(--disabled-bg-color);\n",
              "    fill: var(--disabled-fill-color);\n",
              "    box-shadow: none;\n",
              "  }\n",
              "\n",
              "  .colab-df-spinner {\n",
              "    border: 2px solid var(--fill-color);\n",
              "    border-color: transparent;\n",
              "    border-bottom-color: var(--fill-color);\n",
              "    animation:\n",
              "      spin 1s steps(1) infinite;\n",
              "  }\n",
              "\n",
              "  @keyframes spin {\n",
              "    0% {\n",
              "      border-color: transparent;\n",
              "      border-bottom-color: var(--fill-color);\n",
              "      border-left-color: var(--fill-color);\n",
              "    }\n",
              "    20% {\n",
              "      border-color: transparent;\n",
              "      border-left-color: var(--fill-color);\n",
              "      border-top-color: var(--fill-color);\n",
              "    }\n",
              "    30% {\n",
              "      border-color: transparent;\n",
              "      border-left-color: var(--fill-color);\n",
              "      border-top-color: var(--fill-color);\n",
              "      border-right-color: var(--fill-color);\n",
              "    }\n",
              "    40% {\n",
              "      border-color: transparent;\n",
              "      border-right-color: var(--fill-color);\n",
              "      border-top-color: var(--fill-color);\n",
              "    }\n",
              "    60% {\n",
              "      border-color: transparent;\n",
              "      border-right-color: var(--fill-color);\n",
              "    }\n",
              "    80% {\n",
              "      border-color: transparent;\n",
              "      border-right-color: var(--fill-color);\n",
              "      border-bottom-color: var(--fill-color);\n",
              "    }\n",
              "    90% {\n",
              "      border-color: transparent;\n",
              "      border-bottom-color: var(--fill-color);\n",
              "    }\n",
              "  }\n",
              "</style>\n",
              "\n",
              "  <script>\n",
              "    async function quickchart(key) {\n",
              "      const quickchartButtonEl =\n",
              "        document.querySelector('#' + key + ' button');\n",
              "      quickchartButtonEl.disabled = true;  // To prevent multiple clicks.\n",
              "      quickchartButtonEl.classList.add('colab-df-spinner');\n",
              "      try {\n",
              "        const charts = await google.colab.kernel.invokeFunction(\n",
              "            'suggestCharts', [key], {});\n",
              "      } catch (error) {\n",
              "        console.error('Error during call to suggestCharts:', error);\n",
              "      }\n",
              "      quickchartButtonEl.classList.remove('colab-df-spinner');\n",
              "      quickchartButtonEl.classList.add('colab-df-quickchart-complete');\n",
              "    }\n",
              "    (() => {\n",
              "      let quickchartButtonEl =\n",
              "        document.querySelector('#df-35222986-f484-42c8-939c-df14cede1414 button');\n",
              "      quickchartButtonEl.style.display =\n",
              "        google.colab.kernel.accessAllowed ? 'block' : 'none';\n",
              "    })();\n",
              "  </script>\n",
              "</div>\n",
              "\n",
              "  <div id=\"id_80945660-4552-4827-8f05-4778cbf2906a\">\n",
              "    <style>\n",
              "      .colab-df-generate {\n",
              "        background-color: #E8F0FE;\n",
              "        border: none;\n",
              "        border-radius: 50%;\n",
              "        cursor: pointer;\n",
              "        display: none;\n",
              "        fill: #1967D2;\n",
              "        height: 32px;\n",
              "        padding: 0 0 0 0;\n",
              "        width: 32px;\n",
              "      }\n",
              "\n",
              "      .colab-df-generate:hover {\n",
              "        background-color: #E2EBFA;\n",
              "        box-shadow: 0px 1px 2px rgba(60, 64, 67, 0.3), 0px 1px 3px 1px rgba(60, 64, 67, 0.15);\n",
              "        fill: #174EA6;\n",
              "      }\n",
              "\n",
              "      [theme=dark] .colab-df-generate {\n",
              "        background-color: #3B4455;\n",
              "        fill: #D2E3FC;\n",
              "      }\n",
              "\n",
              "      [theme=dark] .colab-df-generate:hover {\n",
              "        background-color: #434B5C;\n",
              "        box-shadow: 0px 1px 3px 1px rgba(0, 0, 0, 0.15);\n",
              "        filter: drop-shadow(0px 1px 2px rgba(0, 0, 0, 0.3));\n",
              "        fill: #FFFFFF;\n",
              "      }\n",
              "    </style>\n",
              "    <button class=\"colab-df-generate\" onclick=\"generateWithVariable('momsholic')\"\n",
              "            title=\"Generate code using this dataframe.\"\n",
              "            style=\"display:none;\">\n",
              "\n",
              "  <svg xmlns=\"http://www.w3.org/2000/svg\" height=\"24px\"viewBox=\"0 0 24 24\"\n",
              "       width=\"24px\">\n",
              "    <path d=\"M7,19H8.4L18.45,9,17,7.55,7,17.6ZM5,21V16.75L18.45,3.32a2,2,0,0,1,2.83,0l1.4,1.43a1.91,1.91,0,0,1,.58,1.4,1.91,1.91,0,0,1-.58,1.4L9.25,21ZM18.45,9,17,7.55Zm-12,3A5.31,5.31,0,0,0,4.9,8.1,5.31,5.31,0,0,0,1,6.5,5.31,5.31,0,0,0,4.9,4.9,5.31,5.31,0,0,0,6.5,1,5.31,5.31,0,0,0,8.1,4.9,5.31,5.31,0,0,0,12,6.5,5.46,5.46,0,0,0,6.5,12Z\"/>\n",
              "  </svg>\n",
              "    </button>\n",
              "    <script>\n",
              "      (() => {\n",
              "      const buttonEl =\n",
              "        document.querySelector('#id_80945660-4552-4827-8f05-4778cbf2906a button.colab-df-generate');\n",
              "      buttonEl.style.display =\n",
              "        google.colab.kernel.accessAllowed ? 'block' : 'none';\n",
              "\n",
              "      buttonEl.onclick = () => {\n",
              "        google.colab.notebook.generateWithVariable('momsholic');\n",
              "      }\n",
              "      })();\n",
              "    </script>\n",
              "  </div>\n",
              "\n",
              "    </div>\n",
              "  </div>\n"
            ],
            "application/vnd.google.colaboratory.intrinsic+json": {
              "type": "dataframe",
              "variable_name": "momsholic",
              "summary": "{\n  \"name\": \"momsholic\",\n  \"rows\": 30,\n  \"fields\": [\n    {\n      \"column\": \"context\",\n      \"properties\": {\n        \"dtype\": \"string\",\n        \"num_unique_values\": 30,\n        \"samples\": [\n          \"\\uc6a9\\uae30\\uac00\\uc5c6\\uc5b4\\uc11c \\uc8fd\\uc9c0\\ub3c4 \\ubabb\\ud558\\uace0..  \\uc0c8\\ubcbd\\uc218\\uc720 \\ub04a\\ub294\\uc911\\uc778\\ub370 \\ud1a0\\ub2e5\\ud1a0\\ub2e5 \\uc5f0\\uc7a5\\ud558\\ub2e4\\uac00 \\uacb0\\uad6d \\uc6b8\\uc5b4\\uc11c \\uac70\\uc2e4\\uc5d0 \\uc790\\ub358 \\ub0a8\\ud3b8 \\uc18c\\ud658\\ud558\\uace0..  \\ub0a8\\ud3b8\\uc774 \\ud1a0\\ub2e5\\ud1a0\\ub2e5 \\uc7ac\\uc6b0\\ub294\\ub370 \\uc7a0 \\ub2e4\\uae68\\uc11c \\uba38\\ub9ac \\uc950\\uc5b4\\ub72f\\uace0\\uc788\\ub294\\ub370 \\uac74\\ub108\\uac00\\uc11c \\uc790\\ub77c\\ub294\\ub370 \\ub2e4\\uae7c\\ub2e4\\uace0\\ud558\\uace0 \\uc2a4\\ud2b8\\ub808\\uc2a4 \\ub54c\\ubb38\\uc778\\uc9c0 \\uc628\\ubab8 \\uadfc\\uc9c0\\ub7ec\\uc6cc\\uc11c \\uae01\\uace0\\uc788\\uc73c\\ub2c8 \\ucc2c\\ubb3c \\uc218\\uac74\\uc73c\\ub85c \\ubb38\\uc9c8\\ub7ec \\uc904\\uae4c \\ud558\\ub294\\ub370\\ub3c4 \\ub410\\ub2e4\\uace0\\ud558\\ub2c8.... \\uc131\\uaca9 \\ucc38 \\uc774\\uc0c1\\ud558\\ub370\\uc694  \\ube61\\uccd0\\uc11c \\ub208\\ub728\\uace0 \\uc549\\uc544\\uc788\\ub294\\ub370 \\ub0a8\\ud3b8 \\ucf54\\uace0\\ub294 \\uc18c\\ub9ac \\ub4e4\\uc73c\\ub2c8 \\ubbf8\\uce58\\uaca0\\ub354\\ub77c\\uad6c\\uc694.  \\ubbf8\\uce5c\\ub4ef\\uc774 \\uc9d0\\ucc59\\uaca8\\uc11c \\ub098\\uc654\\ub294\\ub370.. \\uac08\\ub370\\ub294 \\uc5c6\\uace0..  \\uce5c\\uc815\\uc5d0\\ub294 \\uc5c4\\ub9c8 \\uac71\\uc815\\ud560\\uae4c \\ubabb\\uac00\\uace0 \\uc2dc\\ub301\\uae4c\\uc9c0\\ub294 \\uba40\\uc5b4 \\uac08 \\ud798\\ub3c4 \\uc5c6\\uace0..  \\uc9c0\\ud558\\uc8fc\\ucc28\\uc7a5 \\ucc28 \\uc548\\uc5d0\\uc11c \\ucabd\\uc7a0\\uc790\\uace0 8\\uc2dc\\uac04 \\ubc84\\ud2f0\\ub2e43\\uc2dc \\uc785\\uc2e4\\ub418\\ub294 \\ud638\\ud154 \\uc654\\ub294\\ub370 \\ud648\\ucea0\\uc5d0\\uc11c\\ub294 \\uc560\\uae30 \\uc6b0\\ub294\\uc18c\\ub9ac\\uac00..  \\ud638\\ud154\\uc5d0\\uc11c \\uc9d1\\uc73c\\ub85c \\uc654\\ub2e4\\uac14\\ub2e4 \\ud558\\ub2e4\\uac00 \\uc800\\ub141\\uc2dc\\uac04\\ub418\\uc11c \\uc7ac\\uc6b0\\uace0 \\ub2e4\\uc2dc \\ub098\\uc654\\uc5b4\\uc694.  \\uc2e0\\ub791\\ub3c4 \\uc560\\uc4f0\\ub294\\uac74 \\uc54c\\uaca0\\ub294\\ub370 \\ubb50 \\uadf8\\ub807\\ub2e4\\uace0 \\ud574\\uacb0\\ucc45 \\uc788\\ub294\\uac83\\ub3c4 \\uc544\\ub2c8\\uad6c\\uc694. \\ucd9c\\uadfc\\ud558\\uace0 \\uc77c\\ud558\\ub294 \\uc2dc\\uac04 \\ub3c5\\ubc15\\uc5d0 \\ud1f4\\uadfc\\ud558\\uba74 \\uc560\\uae30 \\uc798\\uc2dc\\uac04\\uc774\\uace0..  \\uc560\\uae30 \\ub108\\ubb34 \\uac15\\uc131\\uc73c\\ub85c \\uc6b8\\uc5b4\\uc11c \\uc9d1\\uc5d0\\uac00\\uc11c \\uc7ac\\uc6b0\\uace0 \\ub2e4\\uc2dc \\uc9d0 \\uac00\\uc9c0\\ub7ec \\ud638\\ud154\\uc640\\uc11c \\uc7a0\\uae50 \\ub9dd\\ub54c\\ub9ac\\ub2e4\\uac00 \\uc9d1\\uc5d0 \\uac00\\ub824\\ub294\\ub370..  \\ub3c8\\uc544\\uae4c\\uc6b0\\ub2c8 \\uc53b\\uace0 \\uba4d\\ub54c\\ub9ac\\ub2e4\\uac00 \\uac00\\uaca0\\ub2e4\\uace0 \\ud588\\ub294\\ub370 , \\ub108\\ubb34 \\uac00\\uae30 \\uc2eb\\uc5b4\\uc694   \\uc560\\uae30\\ub791 \\ubd84\\ub9ac\\ubd88\\uc548 \\uc81c\\uac00 \\uc0dd\\uae34\\uac70 \\uac19\\uc740\\ub370 , \\u3160 \\ub9c9\\uc0c1 \\ub4e4\\uc5b4\\uac00\\ub824\\ub2c8 \\ubbf8\\uce58\\uaca0\\uc5b4\\uc694.   \\uc0b0\\ud6c4\\uc6b0\\uc6b8\\uc99d \\uac8c\\uc2dc\\ud310 \\ubcf4\\ub2e4\\ubcf4\\uba74 \\uc544\\uc9c1\\ub3c4 \\uba40\\uc740\\uac70 \\uac19\\uc740\\ub370 \\u3160 \\ub108\\ubb34 \\ud798\\ub4e4\\uc5b4\\uc694 \\u3160 \\uc544\\uac00 130\\uc77c\\ubc16\\uc5d0 \\uc548\\ub41c...  \\ub108\\ubb34 \\ud798\\ub4e4\\uc5b4\\uc694 \\u3160 \\ub05d\\ub3c4\\uc5c6\\uc744 \\uc721\\uc544\\uc5d0 \\uc8fd\\uace0\\ub9cc \\uc2f6\\uc5b4\\uc694. \",\n          \"\\uad1c\\ucc2e\\uc558\\ub294\\ub370 \\ubc31\\uc77c \\uc55e\\ub450\\uace0 \\ub9c8\\uc74c\\uc774 \\ub610 \\uc694\\ub3d9\\uccd0\\uc694  \\uc544\\uae30\\uac00 \\ucee4\\uac00\\ub294 \\uac8c \\uaf2d \\ub0b4 \\uc791\\uc558\\ub358 \\uc544\\uae30\\ub791   \\ud5e4\\uc5b4\\uc9c0\\ub294 \\uac83 \\uac19\\uace0 \\uc774\\ubcc4\\ud558\\ub294 \\ub290\\ub08c\\uc774\\uc5d0\\uc694  \\uadf8\\ub798\\uc11c \\uc790\\uafb8\\ub9cc \\uc2ac\\ud37c\\uc694  \\ucd9c\\uc0b0\\ud6c4\\uc5d4 \\ubc43 \\uc18d\\uc5d0\\uc11c \\uaf2c\\ubb3c\\uac70\\ub9ac\\ub358 \\uc544\\uae30\\ub791  \\ud5e4\\uc5b4\\uc9c4 \\ub290\\ub08c\\uc774\\uc5c8\\ub294\\ub370 \\uc774\\uc820 \\ub610   \\uc138\\uc0c1\\uc5d0 \\ub098\\uc640\\uc11c \\uaf2c\\ubb3c\\uac70\\ub9ac\\ub358 \\uac13\\ub09c\\uc544\\uae30\\ub791  \\ud5e4\\uc5b4\\uc9c0\\ub294 \\ub290\\ub08c\\uc774 \\ub098\\uc11c \\ub108\\ubb34 \\ud798\\ub4e4\\uc5b4\\uc11c  \\uc694\\uc998 \\ub2e4\\uc2dc \\uc6b0\\uc6b8\\uac10\\uc5d0 \\ube60\\uc9c0\\uace0 \\ub9c8\\uc74c\\uc774 \\uc2ac\\ud37c\\uc838\\uc694  \\ud639\\uc2dc \\uc800\\ub791 \\uac19\\uc740 \\ub9c8\\uc74c \\ub4dc\\uc2dc\\ub294 \\ubd84\\ub4e4 \\uc788\\ub098\\uc694?  \\ucd5c\\uadfc\\uc5d0 \\ub9c8\\uc74c\\uc774 \\uad1c\\ucc2e\\uc544\\uc9c0\\uae38\\ub798 \\uc815\\uc2e0\\uacfc \\uc9c4\\ub8cc  \\uc608\\uc57d\\ub3c4 \\ucde8\\uc18c\\ud588\\ub294\\ub370   \\uc5b4\\uc81c \\uc624\\ub298 \\ub610 \\uc2ac\\ud37c\\uc9c0\\uace0 \\uc790\\uafb8 \\ub208\\ubb3c\\ub098\\uace0  \\ub9c8\\uc74c\\uc774 \\ub9c9 \\uc4f0\\ub9ac\\uac8c \\uc544\\ud30c\\uc11c \\uac10\\ub2f9\\uc774 \\uc5b4\\ub835\\ub124\\uc694  \\uc608\\uc058\\uac8c \\uc798 \\ucee4\\uac00\\ub294 \\uadf8 \\ub54c \\uadf8 \\ub54c\\ub97c  \\ub204\\ub9ac\\uace0 \\uac19\\uc774 \\uc798 \\ubcf4\\ub0b4\\uc57c \\ud558\\ub294\\ub370  \\uc65c \\uc790\\uafb8 \\uc9c0\\ub098\\uac00\\ub294\\uac78 \\uc5f0\\uc5f0\\ud558\\uace0 \\uc2ac\\ud508\\uac74\\uc9c0  \\uc9c4\\uc9dc \\ub0b4\\uac00 \\ubbf8\\ucce4\\ub098\\ubd10\\uc694  \\uc9c4\\uc9dc \\uadf8\\ub0e5 \\uc990\\uac81\\uace0 \\uc2f6\\uc5b4\\uc694...  \\ub208 \\ub728\\uc790\\ub9c8\\uc790 \\uc6b8\\uc5b4\\ubc84\\ub824\\uc11c \\uae00 \\uc368 \\ubd10\\uc694\",\n          \"\\uc774\\uc81c \\uc544\\uae30\\ub294 \\ubc31\\uc77c\\uc744 \\uc55e\\ub450\\uace0 \\uc788\\uc5b4\\uc694  \\u200b  \\uc800\\ub294 \\ub0a8\\ud3b8\\uc740 \\uc88b\\uc9c0\\ub9cc \\uc544\\uc774\\ub97c \\uc88b\\uc544\\ud558\\uc9c0 \\uc54a\\ub354\\ub77c\\uad6c\\uc694  \\uc774\\ub807\\uac8c \\uc88b\\uc544\\ud558\\uc9c0 \\uc54a\\uc744\\uac70\\ub77c\\uace0\\ub294 \\uc784\\uc2e0\\uc804\\uc5d0 \\uc0dd\\uac01\\uce58 \\ubabb\\ud588\\uc5b4\\uc694  \\u200b  \\uc2dc\\uac04\\uc774 \\uc9c0\\ub098\\uba74 \\ubaa8\\uc131\\uc560\\ub3c4 \\uc0dd\\uae30\\uace0 \\ud558\\ub8e8\\ud558\\ub8e8 \\ub098\\uc544\\uc9c8\\uac70\\ub77c \\uc0dd\\uac01\\ud588\\ub294\\ub370 \\uc810\\uc810 \\ub354 \\uc544\\uc774\\uc640 \\ud568\\uaed8\\ud558\\ub294 \\uc2dc\\uac04\\uc774 \\ud751\\ubc31\\uac19\\uc544\\uc694  \\u200b  \\uadf8\\uce58\\ub9cc \\ub0a8\\ud3b8\\uc740 \\uc88b\\uc544\\uc694  \\ub0a8\\ud3b8\\uc774 \\uc26c\\ub294\\ub0a0\\uc5d0 \\uc544\\uc774\\ub97c \\ubd10\\uc8fc\\uba74 \\ud589\\ubcf5\\ud574\\uc694  \\uc544\\uc774\\ub97c \\uc774\\ubed0\\ud574\\uc8fc\\ub294 \\ub0a8\\ud3b8\\uc758 \\ubaa8\\uc2b5\\uc774 \\uc88b\\uc740\\uac83 \\uac19\\uc544\\uc694  \\uadf8 \\uc21c\\uac04\\uc5d0\\ub3c4 \\uc544\\uc774\\uac00 \\uc774\\ubed0\\ubcf4\\uc774\\uc9c4 \\uc54a\\uad6c\\uc694..  \\u200b  \\uadf8\\uce58\\ub9cc \\ub0a8\\ud3b8\\uc774 \\ubc14\\uc05c \\uad50\\ub300\\uadfc\\ubb34\\ub77c \\uc81c\\uac00 \\ud63c\\uc790 \\uc721\\uc544\\ud558\\ub294 \\uc2dc\\uac04\\uc774 \\ub9ce\\uc544 \\ub108\\ubb34 \\ud798\\ub4dc\\ub124\\uc694  \\uadf8\\ub807\\ub2e4\\uace0 \\uc544\\uc774\\ub97c \\uc5f4\\uc2ec\\ud788 \\ub3cc\\ubcf4\\uc9c0 \\uc54a\\ub294\\uac74 \\uc544\\ub2cc\\ub370  \\ub9ce\\uc774 \\ub180\\uc544\\uc8fc\\ub824\\uace0 \\ud558\\uace0 \\uc6c3\\uc5b4\\uc8fc\\ub824\\ud558\\uace0 \\uacf5\\ubd80\\ub3c4 \\ub9ce\\uc774 \\ud558\\ub824\\uace0\\ud558\\ub294\\ub370 \\uadf8\\uc800 \\uc774 \\ubaa8\\ub4e0\\uac8c \\uc800\\ud55c\\ud150 \\uadf8\\uc800 '\\ud560 \\uc77c'\\uc815\\ub3c4\\uc774\\ub124\\uc694.  \\uadf8\\ub798\\uc11c \\uc778\\uc9c0 \\uc544\\uc774\\uac00 \\uac00\\ub9cc\\ud788 \\uc788\\uc5b4\\ub3c4 \\uc6c3\\uc5b4\\ub3c4 \\uc544\\ubb34 \\uac10\\uc815\\uc774 \\uc548\\ub4e4\\uace0 , \\uc548\\uc798\\ub54c \\uc6b8\\ub54c \\uae70\\ub54c\\ub294 \\uc2a4\\ud2b8\\ub808\\uc2a4\\uac00 \\ucd5c\\uace0\\uc870\\uc5d0 \\ub2e4\\ub974\\uace0 \\ubc24\\uc7a0\\uc5d0 \\ub4e4\\uba74 \\uc81c\\uac00 \\ubc29\\uc804\\ub418\\uc5b4 \\ud391\\ud391 \\uc6c1\\ub2c8\\ub2e4..  \\u200b  \\uc2dc\\uac04\\uc774 \\uc9c0\\ub098\\uba74 \\ub098\\uc544\\uc9c0\\uaca0\\uc8e0..?\"\n        ],\n        \"semantic_type\": \"\",\n        \"description\": \"\"\n      }\n    },\n    {\n      \"column\": \"comment\",\n      \"properties\": {\n        \"dtype\": \"string\",\n        \"num_unique_values\": 30,\n        \"samples\": [\n          \"\\uc800\\ud76c \\uc2e0\\ub791\\ub3c4 \\ub9ce\\uc774 \\ub3c4\\uc640\\uc904\\ub824\\uace0 \\ud558\\uae34 \\ud558\\ub294\\ub370 \\ub9c9\\uc0c1 \\ub0b4\\uac00 \\uc2dc\\ucf1c\\uc57c\\uc9c0\\ub9cc \\ud560\\ub54c\\ub294 \\uc6b8\\ucee5\\uc6b8\\ucee5\\ud574\\uc694\\u3160 \\ubd84\\uc720\\ud0c0\\uc11c \\uac16\\ub2e4\\uc8fc\\uace0 \\uba39\\uc774\\ub77c\\uba74 \\uc798 \\ub9e5\\uc774\\ub294\\ub370 \\uc816\\ubcd1\\uc740 \\ubc14\\ub2e5\\uc5d0 \\ub370\\uad74\\ub370\\uad74, \\uae30\\uc800\\uadc0\\ub3c4 \\uac08\\uace0\\ub098\\uba74 \\uc2f8\\uc11c \\ud734\\uc9c0\\ud1b5\\uc5d0 \\ubc84\\ub9b0\\uc801\\uc774 \\uc5c6\\uc5b4\\uc694 \\u314b\\u314b \\uadf8\\ub798\\ub3c4 \\ubb50\\ub77c\\ud558\\uba74 \\uadf8\\ub098\\ub9c8 \\ud558\\ub294\\uac83\\ub450 \\uc548\\ud560\\uae4c\\ubd10 \\uc798\\ud55c\\ub2e4\\uc798\\ud55c\\ub2e4 \\ud574\\uc8fc\\uace0 \\uc788\\uc5b4\\uc694..\",\n          \"\\uc644\\uc804\\uc800\\ub791 \\ub611\\uac19\\uc73c\\uc138\\uc694.. \\uc784\\uc2e0\\uc911\\uc5d0 \\uc560\\uae30 \\ud488\\uace0 \\uc788\\uc5b4\\uc11c \\ub9ce\\uc774 \\ud589\\ubcf5\\ud588\\ub098\\ubd10\\uc694 .... \\uc560\\uae30 \\ube68\\ub9ac \\ubcf4\\uace0\\uc2f6\\uc5c8\\ub294\\ub370 \\ub0b3\\uc790\\ub9c8\\uc790 \\ubb54\\uac00 \\uc6b0\\uc6b8\\ud588\\uc5b4\\uc694.. \\uae30\\uc058\\uae30\\ub3c4 \\ud55c\\ub370.. \\uc784\\uc2e0\\uae30\\uac04 \\uace0\\uc0dd\\ud588\\uc73c\\uba74\\uc11c\\ub3c4 \\uc791\\uc544\\uc9c4 \\ubc30\\ub97c \\ubcf4\\ub2c8 \\uc6b0\\uc6b8\\ud588\\uc5b4\\uc694 \\uadf8\\ub0e5 \\u3160\\u3160  \\uc81c \\ub208\\uc5d4 \\ud0dc\\uc5b4\\ub09c \\uc9c1 \\ud6c4\\ub3c4 \\ub118 \\uc608\\ubee4\\uc5c8\\ub294\\ub370 \\uc785\\uc6d0\\uae30\\uac04\\ub3d9\\uc548 \\uadf8 \\ud0dc\\uc5b4\\ub09c \\uc9c1\\ud6c4 \\ubaa8\\uc2b5\\uc774 \\uc544\\uc26c\\uc6cc\\uc11c \\uc0ac\\uc9c4 \\uacc4\\uc18d \\ub3cc\\ub824\\ubd24\\uad6c\\uc694.. \\uc2e0\\uc0dd\\uc544 \\uc9c0\\ub098\\uace4 \\uc2e0\\uc0dd\\uc544\\uc2dc\\uc808\\uc774 \\uadf8\\ub9ac\\uc6cc\\uc11c \\uc544\\uc27d\\uace0... \\ud798\\ub4e4\\uc5b4\\uc11c \\ube68\\ub9ac \\ud06c\\uae38 \\ubc14\\ub77c\\uba74\\uc11c\\ub3c4 \\ud558\\ub8e8\\ud558\\ub8e8\\uac00 \\uc544\\uc27d\\uace0 \\uc6b0\\uc6b8\\ud558\\ub124\\uc694.. \\u3160 \\ub09c\\uc911 \\uc5b4\\ub9b0\\uc774\\uc9d1\\uc740 \\uc5b4\\ucc0c\\ubcf4\\ub0bc\\uae4c \\uc2f6\\uace0  \\ud558\\ub8e8\\ud558\\ub8e8\\uac00 \\uc544\\uc27d\\uace0 \\uc6b0\\uc6b8\\uc758 \\uc5f0\\uc18d\\uc774\\uc5d0\\uc694\\u3160 \\uc9c0\\ub098\\uace0\\ub098\\uba74 \\ud604\\uc7ac\\uac00 \\ud589\\ubcf5\\ud558\\ub2e8\\uac78 \\uc544\\uc8fc \\uc798\\uc54c\\uace0\\uc788\\ub294\\ub370 \\uc774 \\uc6b0\\uc6b8\\ud55c \\uae30\\ubd84\\uc744 \\ub5a8\\uccd0\\ubc84\\ub9ac\\uae30\\uac00 \\uc5b4\\ub835\\ub124\\uc694... \\ub118 \\ud53c\\uace4\\ud569\\ub2c8\\ub2e4\\u3160 \\ub9c8\\ub0e5\\ud589\\ubcf5\\ub9cc \\ud558\\uace0\\uc2f6\\uc740\\ub370 \\uc81c\\uac00 \\uc65c\\uc774\\ub7f0\\uc9c0 \\ubaa8\\ub974\\uaca0\\uc5b4\\uc694\",\n          \"\\uc544\\uc9c1\\uc740 \\uc560\\uae30\\ub791 \\uc0c1\\ud638\\uc791\\uc6a9\\uc774 \\ub418\\ub294 \\ub290\\ub08c\\uc774 \\uc5c6\\uc5b4\\uc11c \\uadf8\\ub798\\uc694~~ \\uc800\\ub3c4 \\uc544\\uae30 \\ubc31\\uc77c \\ub118\\uc5b4\\uac00\\ub2c8 \\ub118 \\uc774\\ubf40\\uc694\\ud83d\\ude0d\"\n        ],\n        \"semantic_type\": \"\",\n        \"description\": \"\"\n      }\n    }\n  ]\n}"
            }
          },
          "metadata": {},
          "execution_count": 26
        }
      ]
    },
    {
      "cell_type": "code",
      "source": [
        "# JSONL 형식으로 변환\n",
        "import json\n",
        "\n",
        "jsonl_file_path = '/content/momttok_mosholic.jsonl'\n",
        "\n",
        "# JSONL 형식으로 변환\n",
        "with open(jsonl_file_path, 'w', encoding='utf-8') as f:\n",
        "    for idx, row in momsholic.iterrows():\n",
        "        content = row['context']\n",
        "        comment = row['comment']\n",
        "        jsonl_data = {\n",
        "            \"messages\": [\n",
        "                {\"role\": \"system\", \"content\": \"당신은 초보 엄마의 마음을 친절히 공감할 줄 아는 AI입니다.\"},\n",
        "                {\"role\": \"user\", \"content\": content},\n",
        "                {\"role\": \"assistant\", \"content\": comment}\n",
        "            ]\n",
        "        }\n",
        "        f.write(json.dumps(jsonl_data, ensure_ascii=False) + '\\n')\n",
        "\n",
        "print(f\"JSONL 파일이 저장되었습니다: {jsonl_file_path}\")"
      ],
      "metadata": {
        "colab": {
          "base_uri": "https://localhost:8080/"
        },
        "id": "whDixPcg_EgY",
        "outputId": "2fb897ef-38af-4e8f-ddf1-40aadae603b3"
      },
      "execution_count": 27,
      "outputs": [
        {
          "output_type": "stream",
          "name": "stdout",
          "text": [
            "JSONL 파일이 저장되었습니다: /content/momttok_mosholic.jsonl\n"
          ]
        }
      ]
    },
    {
      "cell_type": "code",
      "source": [
        "# 데이터 파일 경로\n",
        "file_path = \"momttok_mosholic.jsonl\"\n",
        "\n",
        "# 파일 업로드\n",
        "response = openai.File.create(\n",
        "    file=open(jsonl_file_path, 'rb'),\n",
        "    purpose='fine-tune'\n",
        ")\n",
        "file_id = response['id']\n",
        "print(f\"Uploaded file ID: {file_id}\")"
      ],
      "metadata": {
        "id": "Dr6exVpEOBxK",
        "colab": {
          "base_uri": "https://localhost:8080/"
        },
        "outputId": "c87929c5-8036-4d84-ef4c-24107d39edf7"
      },
      "execution_count": 28,
      "outputs": [
        {
          "output_type": "stream",
          "name": "stdout",
          "text": [
            "Uploaded file ID: file-2AEaXGRkg9Sn05ekNaomlE4f\n"
          ]
        }
      ]
    },
    {
      "cell_type": "markdown",
      "source": [
        "# 4. 파인 튜닝"
      ],
      "metadata": {
        "id": "6mge37-4_UbW"
      }
    },
    {
      "cell_type": "code",
      "source": [
        "# 파인튜닝 작업 생성\n",
        "\n",
        "response = openai.FineTuningJob.create(\n",
        "    training_file=file_id,\n",
        "    model=\"gpt-3.5-turbo\"\n",
        ")\n",
        "fine_tune_id = response['id']\n",
        "print(f\"Fine-tune ID: {fine_tune_id}\")"
      ],
      "metadata": {
        "id": "TliK5uEsOKOU",
        "colab": {
          "base_uri": "https://localhost:8080/"
        },
        "outputId": "a646869f-3595-45fe-f5cc-21037a22cece"
      },
      "execution_count": 29,
      "outputs": [
        {
          "output_type": "stream",
          "name": "stdout",
          "text": [
            "Fine-tune ID: ftjob-xJ8Gz9z0rqtLlpzJ0j2bXqG1\n"
          ]
        }
      ]
    },
    {
      "cell_type": "code",
      "source": [
        "# 파인튜닝 작업 모니터링\n",
        "import time\n",
        "\n",
        "while True:\n",
        "    response = openai.FineTuningJob.retrieve(id=fine_tune_id)\n",
        "    status = response['status']\n",
        "    if status == 'succeeded':\n",
        "        print(\"Fine-tuning succeeded!\")\n",
        "        model_id = response['fine_tuned_model']\n",
        "        print(f\"Fine-tuned model ID: {model_id}\")\n",
        "        break\n",
        "    elif status == 'failed':\n",
        "        print(\"Fine-tuning failed.\")\n",
        "        break\n",
        "    else:\n",
        "        print(f\"Fine-tuning status: {status}\")\n",
        "        time.sleep(60)"
      ],
      "metadata": {
        "id": "u3oqQyU0OORg",
        "colab": {
          "base_uri": "https://localhost:8080/"
        },
        "outputId": "8d4e3093-33b3-48c4-f2fa-09df1433184b"
      },
      "execution_count": 31,
      "outputs": [
        {
          "output_type": "stream",
          "name": "stdout",
          "text": [
            "Fine-tuning status: running\n",
            "Fine-tuning status: running\n",
            "Fine-tuning status: running\n",
            "Fine-tuning succeeded!\n",
            "Fine-tuned model ID: ft:gpt-3.5-turbo-0125:personal::9biYxCFB\n"
          ]
        }
      ]
    },
    {
      "cell_type": "code",
      "source": [
        "def generate_comment2(diary_entry):\n",
        "    prompt = f\"일기: {diary_entry}\\n\\n이 일기를 읽고 공감형 댓글을 작성해 주세요:\"\n",
        "    response = openai.ChatCompletion.create(\n",
        "        model=model_id,  # 파인튜닝된 모델 ID 사용\n",
        "        messages=[\n",
        "            {\"role\": \"system\", \"content\": \"당신은 초보 엄마의 마음을 친절히 공감할 줄 아는 AI입니다.\"},\n",
        "            {\"role\": \"user\", \"content\": prompt}\n",
        "        ],\n",
        "        max_tokens=200,  # 응답의 최대 길이 제한\n",
        "        temperature=0.5  # 창의성과 다양성 조절\n",
        "    )\n",
        "    return response.choices[0].message['content']"
      ],
      "metadata": {
        "id": "2YkbJJ_fOXBe"
      },
      "execution_count": 45,
      "outputs": []
    },
    {
      "cell_type": "code",
      "source": [
        "# 일기 예시\n",
        "diary_entry = \"오늘 육아가 너무 힘든데 집도 지저분하고 애기는 어린이집에서 낮잠을 제대로 못잔건지,, 일찍 자지 않아서 정말 너무 힘들다\"\n",
        "\n",
        "comment = generate_comment2(diary_entry)\n",
        "print(comment)"
      ],
      "metadata": {
        "id": "JeJ8yoaZ_6x4",
        "colab": {
          "base_uri": "https://localhost:8080/"
        },
        "outputId": "7934ddfc-0e22-4010-93c0-a2b19da67986"
      },
      "execution_count": 44,
      "outputs": [
        {
          "output_type": "stream",
          "name": "stdout",
          "text": [
            "오늘도 수고 많았어요ㅠ 우리도 항상 아기만 생각해서 정성을 다 하고 살아서 시간 내서 집도 청소하려고 하는데.. 힘들죠,, 힘을 내요💪💪\n"
          ]
        }
      ]
    },
    {
      "cell_type": "code",
      "source": [],
      "metadata": {
        "id": "G9qjyxEd_6vu"
      },
      "execution_count": null,
      "outputs": []
    },
    {
      "cell_type": "code",
      "source": [],
      "metadata": {
        "id": "P09BeCst_6tS"
      },
      "execution_count": null,
      "outputs": []
    },
    {
      "cell_type": "code",
      "source": [],
      "metadata": {
        "id": "awu_xq0J_6rP"
      },
      "execution_count": null,
      "outputs": []
    },
    {
      "cell_type": "code",
      "source": [],
      "metadata": {
        "id": "C0iY2X61_6o5"
      },
      "execution_count": null,
      "outputs": []
    }
  ],
  "metadata": {
    "accelerator": "GPU",
    "colab": {
      "gpuType": "T4",
      "provenance": []
    },
    "kernelspec": {
      "display_name": "Python 3",
      "name": "python3"
    },
    "language_info": {
      "name": "python"
    }
  },
  "nbformat": 4,
  "nbformat_minor": 0
}